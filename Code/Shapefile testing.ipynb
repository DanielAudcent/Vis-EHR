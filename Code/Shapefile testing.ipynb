{
 "cells": [
  {
   "cell_type": "markdown",
   "id": "58bddef0",
   "metadata": {},
   "source": [
    "# Import libraries"
   ]
  },
  {
   "cell_type": "code",
   "execution_count": 1,
   "id": "4f238a36",
   "metadata": {},
   "outputs": [],
   "source": [
    "import geopandas"
   ]
  },
  {
   "cell_type": "code",
   "execution_count": 12,
   "id": "22e54a5e",
   "metadata": {},
   "outputs": [],
   "source": [
    "shapefile = \"/Users/Daniel/Desktop/MSc Data Science/Dissertaton Project/Repo/Vis-EHR/Shapefile/Clinical_Commissioning_Groups_(April_2020)_EN_BFC_V2.geojson\"\n",
    "uk_df = geopandas.read_file(shapefile)\n",
    "\n",
    "covid_data = \"/Users/Daniel/Desktop/MSc Data Science/Dissertaton Project/Repo/Vis-EHR/Data/cases_reported_2021-04-09_unstacked.csv\"\n",
    "covid_layer = geopandas.read_file(covid_data)"
   ]
  },
  {
   "cell_type": "markdown",
   "id": "a725f032",
   "metadata": {},
   "source": [
    "# Shapefile plot"
   ]
  },
  {
   "cell_type": "code",
   "execution_count": 15,
   "id": "5b04a501",
   "metadata": {},
   "outputs": [
    {
     "data": {
      "text/plain": [
       "<AxesSubplot:>"
      ]
     },
     "execution_count": 15,
     "metadata": {},
     "output_type": "execute_result"
    },
    {
     "data": {
      "image/png": "[encoded data removed]",
      "text/plain": [
       "<Figure size 432x288 with 1 Axes>"
      ]
     },
     "metadata": {
      "needs_background": "light"
     },
     "output_type": "display_data"
    }
   ],
   "source": [
    "uk_df.boundary.plot()"
   ]
  },
  {
   "cell_type": "code",
   "execution_count": 16,
   "id": "370ddc77",
   "metadata": {},
   "outputs": [
    {
     "data": {
      "text/html": [
       "<div>\n",
       "<style scoped>\n",
       "    .dataframe tbody tr th:only-of-type {\n",
       "        vertical-align: middle;\n",
       "    }\n",
       "\n",
       "    .dataframe tbody tr th {\n",
       "        vertical-align: top;\n",
       "    }\n",
       "\n",
       "    .dataframe thead th {\n",
       "        text-align: right;\n",
       "    }\n",
       "</style>\n",
       "<table border=\"1\" class=\"dataframe\">\n",
       "  <thead>\n",
       "    <tr style=\"text-align: right;\">\n",
       "      <th></th>\n",
       "      <th>areaType</th>\n",
       "      <th>areaCode</th>\n",
       "      <th>areaName</th>\n",
       "      <th>cumulative_2021-04-08</th>\n",
       "      <th>removed_2021-04-09</th>\n",
       "      <th>daily_2021-04-09</th>\n",
       "      <th>cumulative_2021-04-09</th>\n",
       "      <th>geometry</th>\n",
       "    </tr>\n",
       "  </thead>\n",
       "  <tbody>\n",
       "    <tr>\n",
       "      <th>0</th>\n",
       "      <td>ltla</td>\n",
       "      <td>E06000001</td>\n",
       "      <td>Hartlepool</td>\n",
       "      <td>8835</td>\n",
       "      <td>24</td>\n",
       "      <td>4</td>\n",
       "      <td>8815</td>\n",
       "      <td>None</td>\n",
       "    </tr>\n",
       "    <tr>\n",
       "      <th>1</th>\n",
       "      <td>ltla</td>\n",
       "      <td>E06000002</td>\n",
       "      <td>Middlesbrough</td>\n",
       "      <td>12367</td>\n",
       "      <td>16</td>\n",
       "      <td>12</td>\n",
       "      <td>12363</td>\n",
       "      <td>None</td>\n",
       "    </tr>\n",
       "    <tr>\n",
       "      <th>2</th>\n",
       "      <td>ltla</td>\n",
       "      <td>E06000003</td>\n",
       "      <td>Redcar and Cleveland</td>\n",
       "      <td>9262</td>\n",
       "      <td>16</td>\n",
       "      <td>2</td>\n",
       "      <td>9248</td>\n",
       "      <td>None</td>\n",
       "    </tr>\n",
       "    <tr>\n",
       "      <th>3</th>\n",
       "      <td>ltla</td>\n",
       "      <td>E06000004</td>\n",
       "      <td>Stockton-on-Tees</td>\n",
       "      <td>15783</td>\n",
       "      <td>28</td>\n",
       "      <td>15</td>\n",
       "      <td>15770</td>\n",
       "      <td>None</td>\n",
       "    </tr>\n",
       "    <tr>\n",
       "      <th>4</th>\n",
       "      <td>ltla</td>\n",
       "      <td>E06000005</td>\n",
       "      <td>Darlington</td>\n",
       "      <td>7449</td>\n",
       "      <td>14</td>\n",
       "      <td>8</td>\n",
       "      <td>7443</td>\n",
       "      <td>None</td>\n",
       "    </tr>\n",
       "  </tbody>\n",
       "</table>\n",
       "</div>"
      ],
      "text/plain": [
       "  areaType   areaCode              areaName cumulative_2021-04-08  \\\n",
       "0     ltla  E06000001            Hartlepool                  8835   \n",
       "1     ltla  E06000002         Middlesbrough                 12367   \n",
       "2     ltla  E06000003  Redcar and Cleveland                  9262   \n",
       "3     ltla  E06000004      Stockton-on-Tees                 15783   \n",
       "4     ltla  E06000005            Darlington                  7449   \n",
       "\n",
       "  removed_2021-04-09 daily_2021-04-09 cumulative_2021-04-09 geometry  \n",
       "0                 24                4                  8815     None  \n",
       "1                 16               12                 12363     None  \n",
       "2                 16                2                  9248     None  \n",
       "3                 28               15                 15770     None  \n",
       "4                 14                8                  7443     None  "
      ]
     },
     "execution_count": 16,
     "metadata": {},
     "output_type": "execute_result"
    }
   ],
   "source": [
    "covid_layer.head()"
   ]
  },
  {
   "cell_type": "code",
   "execution_count": 17,
   "id": "88460884",
   "metadata": {},
   "outputs": [
    {
     "data": {
      "text/html": [
       "<div>\n",
       "<style scoped>\n",
       "    .dataframe tbody tr th:only-of-type {\n",
       "        vertical-align: middle;\n",
       "    }\n",
       "\n",
       "    .dataframe tbody tr th {\n",
       "        vertical-align: top;\n",
       "    }\n",
       "\n",
       "    .dataframe thead th {\n",
       "        text-align: right;\n",
       "    }\n",
       "</style>\n",
       "<table border=\"1\" class=\"dataframe\">\n",
       "  <thead>\n",
       "    <tr style=\"text-align: right;\">\n",
       "      <th></th>\n",
       "      <th>objectid</th>\n",
       "      <th>ccg20cd</th>\n",
       "      <th>ccg20nm</th>\n",
       "      <th>bng_e</th>\n",
       "      <th>bng_n</th>\n",
       "      <th>long</th>\n",
       "      <th>lat</th>\n",
       "      <th>st_lengthshape</th>\n",
       "      <th>st_areashape</th>\n",
       "      <th>geometry</th>\n",
       "    </tr>\n",
       "  </thead>\n",
       "  <tbody>\n",
       "    <tr>\n",
       "      <th>0</th>\n",
       "      <td>1</td>\n",
       "      <td>E38000004</td>\n",
       "      <td>NHS Barking and Dagenham CCG</td>\n",
       "      <td>547758</td>\n",
       "      <td>185109</td>\n",
       "      <td>0.129493</td>\n",
       "      <td>51.545528</td>\n",
       "      <td>40665.278927</td>\n",
       "      <td>3.609104e+07</td>\n",
       "      <td>MULTIPOLYGON (((0.14810 51.59656, 0.14810 51.5...</td>\n",
       "    </tr>\n",
       "    <tr>\n",
       "      <th>1</th>\n",
       "      <td>2</td>\n",
       "      <td>E38000006</td>\n",
       "      <td>NHS Barnsley CCG</td>\n",
       "      <td>429979</td>\n",
       "      <td>403330</td>\n",
       "      <td>-1.549250</td>\n",
       "      <td>53.525799</td>\n",
       "      <td>125518.601736</td>\n",
       "      <td>3.290521e+08</td>\n",
       "      <td>POLYGON ((-1.44672 53.61269, -1.44673 53.61271...</td>\n",
       "    </tr>\n",
       "    <tr>\n",
       "      <th>2</th>\n",
       "      <td>3</td>\n",
       "      <td>E38000007</td>\n",
       "      <td>NHS Basildon and Brentwood CCG</td>\n",
       "      <td>564014</td>\n",
       "      <td>194421</td>\n",
       "      <td>0.368068</td>\n",
       "      <td>51.624699</td>\n",
       "      <td>120224.102809</td>\n",
       "      <td>2.631425e+08</td>\n",
       "      <td>POLYGON ((0.33570 51.71415, 0.33570 51.71415, ...</td>\n",
       "    </tr>\n",
       "    <tr>\n",
       "      <th>3</th>\n",
       "      <td>4</td>\n",
       "      <td>E38000008</td>\n",
       "      <td>NHS Bassetlaw CCG</td>\n",
       "      <td>468073</td>\n",
       "      <td>384833</td>\n",
       "      <td>-0.978700</td>\n",
       "      <td>53.356022</td>\n",
       "      <td>159653.370671</td>\n",
       "      <td>6.378706e+08</td>\n",
       "      <td>MULTIPOLYGON (((-0.90522 53.47263, -0.90469 53...</td>\n",
       "    </tr>\n",
       "    <tr>\n",
       "      <th>4</th>\n",
       "      <td>5</td>\n",
       "      <td>E38000010</td>\n",
       "      <td>NHS Bedfordshire CCG</td>\n",
       "      <td>508276</td>\n",
       "      <td>246439</td>\n",
       "      <td>-0.420450</td>\n",
       "      <td>52.105701</td>\n",
       "      <td>268850.214711</td>\n",
       "      <td>1.192076e+09</td>\n",
       "      <td>POLYGON ((-0.45293 52.31798, -0.45314 52.31808...</td>\n",
       "    </tr>\n",
       "  </tbody>\n",
       "</table>\n",
       "</div>"
      ],
      "text/plain": [
       "   objectid    ccg20cd                         ccg20nm   bng_e   bng_n  \\\n",
       "0         1  E38000004    NHS Barking and Dagenham CCG  547758  185109   \n",
       "1         2  E38000006                NHS Barnsley CCG  429979  403330   \n",
       "2         3  E38000007  NHS Basildon and Brentwood CCG  564014  194421   \n",
       "3         4  E38000008               NHS Bassetlaw CCG  468073  384833   \n",
       "4         5  E38000010            NHS Bedfordshire CCG  508276  246439   \n",
       "\n",
       "       long        lat  st_lengthshape  st_areashape  \\\n",
       "0  0.129493  51.545528    40665.278927  3.609104e+07   \n",
       "1 -1.549250  53.525799   125518.601736  3.290521e+08   \n",
       "2  0.368068  51.624699   120224.102809  2.631425e+08   \n",
       "3 -0.978700  53.356022   159653.370671  6.378706e+08   \n",
       "4 -0.420450  52.105701   268850.214711  1.192076e+09   \n",
       "\n",
       "                                            geometry  \n",
       "0  MULTIPOLYGON (((0.14810 51.59656, 0.14810 51.5...  \n",
       "1  POLYGON ((-1.44672 53.61269, -1.44673 53.61271...  \n",
       "2  POLYGON ((0.33570 51.71415, 0.33570 51.71415, ...  \n",
       "3  MULTIPOLYGON (((-0.90522 53.47263, -0.90469 53...  \n",
       "4  POLYGON ((-0.45293 52.31798, -0.45314 52.31808...  "
      ]
     },
     "execution_count": 17,
     "metadata": {},
     "output_type": "execute_result"
    }
   ],
   "source": [
    "uk_df.head()"
   ]
  },
  {
   "cell_type": "code",
   "execution_count": null,
   "id": "802fa6c1",
   "metadata": {},
   "outputs": [],
   "source": []
  }
 ],
 "metadata": {
  "kernelspec": {
   "display_name": "Python 3",
   "language": "python",
   "name": "python3"
  },
  "language_info": {
   "codemirror_mode": {
    "name": "ipython",
    "version": 3
   },
   "file_extension": ".py",
   "mimetype": "text/x-python",
   "name": "python",
   "nbconvert_exporter": "python",
   "pygments_lexer": "ipython3",
   "version": "3.7.10"
  }
 },
 "nbformat": 4,
 "nbformat_minor": 5
}
